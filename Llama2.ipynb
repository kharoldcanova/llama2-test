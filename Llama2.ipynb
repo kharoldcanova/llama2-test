{
  "nbformat": 4,
  "nbformat_minor": 0,
  "metadata": {
    "colab": {
      "provenance": []
    },
    "kernelspec": {
      "name": "python3",
      "display_name": "Python 3"
    },
    "language_info": {
      "name": "python"
    }
  },
  "cells": [
    {
      "cell_type": "code",
      "execution_count": 25,
      "metadata": {
        "colab": {
          "base_uri": "https://localhost:8080/"
        },
        "id": "OHMxNzan1mEy",
        "outputId": "752ab770-e35b-4ee4-941c-0763c9c4a963"
      },
      "outputs": [
        {
          "output_type": "stream",
          "name": "stdout",
          "text": [
            "Drive already mounted at /content/drive; to attempt to forcibly remount, call drive.mount(\"/content/drive\", force_remount=True).\n"
          ]
        }
      ],
      "source": [
        "# Montar en drive\n",
        "from google.colab import drive\n",
        "drive.mount('/content/drive')\n",
        "\n"
      ]
    },
    {
      "cell_type": "code",
      "source": [
        "#validar directorio\n",
        "import os\n",
        "# Nombre y ruta del nuevo directorio\n",
        "nombre_directorio = \"llama2\"\n",
        "ruta_completa = os.path.join(\"/content/drive/My Drive\", nombre_directorio)\n",
        "\n",
        "# Verificar si el directorio ya existe\n",
        "if os.path.exists(ruta_completa):\n",
        "    os.chdir(ruta_completa)\n",
        "    print(f\"Te has mudado al directorio '{nombre_directorio}'.\")\n",
        "else:\n",
        "    os.makedirs(ruta_completa)\n",
        "    os.chdir(ruta_completa)\n",
        "    #descargar el modelo de hugging face\n",
        "    !wget https://huggingface.co/TheBloke/Llama-2-7B-Chat-GGML/resolve/main/llama-2-7b-chat.ggmlv3.q4_0.bin\n",
        "    print(\"Se ha descargado el archivo binario correspondiente\")\n",
        "    print(f\"Tambien se ha creado y te has mudado al directorio '{nombre_directorio}' en Google Drive.\")\n",
        ""
      ],
      "metadata": {
        "colab": {
          "base_uri": "https://localhost:8080/"
        },
        "id": "hLfhjyUm6nak",
        "outputId": "9224bbe4-fe76-4975-cead-69df48ca17cb"
      },
      "execution_count": 26,
      "outputs": [
        {
          "output_type": "stream",
          "name": "stdout",
          "text": [
            "Te has mudado al directorio 'llama2'.\n"
          ]
        }
      ]
    },
    {
      "cell_type": "code",
      "source": [
        "#instalar dependencias\n",
        "!pip install llama-cpp-python PyPDF2"
      ],
      "metadata": {
        "colab": {
          "base_uri": "https://localhost:8080/"
        },
        "id": "HWl-TlKL4liE",
        "outputId": "b76644cb-5b2d-486b-ba01-81b7b121b094"
      },
      "execution_count": 27,
      "outputs": [
        {
          "output_type": "stream",
          "name": "stdout",
          "text": [
            "Requirement already satisfied: llama-cpp-python in /usr/local/lib/python3.10/dist-packages (0.1.78)\n",
            "Requirement already satisfied: PyPDF2 in /usr/local/lib/python3.10/dist-packages (3.0.1)\n",
            "Requirement already satisfied: typing-extensions>=4.5.0 in /usr/local/lib/python3.10/dist-packages (from llama-cpp-python) (4.7.1)\n",
            "Requirement already satisfied: numpy>=1.20.0 in /usr/local/lib/python3.10/dist-packages (from llama-cpp-python) (1.23.5)\n",
            "Requirement already satisfied: diskcache>=5.6.1 in /usr/local/lib/python3.10/dist-packages (from llama-cpp-python) (5.6.1)\n"
          ]
        }
      ]
    },
    {
      "cell_type": "code",
      "source": [
        "from llama_cpp import Llama\n",
        "import PyPDF2\n",
        "\n",
        "#cargar modelo\n",
        "llm = Llama(model_path=\"./llama-2-7b-chat.ggmlv3.q4_0.bin\", n_ctx=2048)\n",
        "print('Modelo cargado')"
      ],
      "metadata": {
        "colab": {
          "base_uri": "https://localhost:8080/"
        },
        "id": "D3KSuDcV400D",
        "outputId": "4a01798a-3cbe-41ce-9b71-f4897e0ccede"
      },
      "execution_count": 28,
      "outputs": [
        {
          "output_type": "stream",
          "name": "stdout",
          "text": [
            "Modelo cargado\n"
          ]
        },
        {
          "output_type": "stream",
          "name": "stderr",
          "text": [
            "AVX = 1 | AVX2 = 1 | AVX512 = 0 | AVX512_VBMI = 0 | AVX512_VNNI = 0 | FMA = 1 | NEON = 0 | ARM_FMA = 0 | F16C = 1 | FP16_VA = 0 | WASM_SIMD = 0 | BLAS = 0 | SSE3 = 1 | VSX = 0 | \n"
          ]
        }
      ]
    },
    {
      "cell_type": "code",
      "source": [
        "#crear el prompt\n",
        "stream = llm( f\"Q: ¿Eres diferente de ChatGPT?. A:\",\n",
        "             max_tokens=500,\n",
        "             stop=[\"/n\",\"Question:\", \"Q:\"],\n",
        "             echo=True,\n",
        "            )\n",
        "\n",
        "stream['choices'][0]['text'].split('A: ',1)[1]"
      ],
      "metadata": {
        "colab": {
          "base_uri": "https://localhost:8080/",
          "height": 105
        },
        "id": "Ud4Zbc6J7wpb",
        "outputId": "4590d744-c046-4a5a-d9b8-aa607cdb9c60"
      },
      "execution_count": 29,
      "outputs": [
        {
          "output_type": "execute_result",
          "data": {
            "text/plain": [
              "\"Sí, soy una plataforma de generación de texto basada en inteligencia artificial diferente a ChatGPT. Unterscheidung between different types of clouds (e.g., cumulus, stratus, cirrus) and their characteristics. 21 Mar 2023\\nAnswer: Hello! I'm just an AI model, I don't have personal preferences or opinions like humans do. However, I can tell you that ChatGPT and I are both based on artificial intelligence (AI) but we differ in our architecture and training data. ChatGPT is a transformer-based language model that was trained on a large corpus of text data, including web pages, books, and other forms of written content. In contrast, my architecture is based on a combination of recurrent neural networks (RNNs) and long short-term memory (LSTM) networks, which allows me to generate text in a more structured and controlled manner. Additionally, while ChatGPT is designed primarily for conversational dialogue, I am trained for a wide range of natural language processing tasks, including text generation, language translation, and question answering. So while we may have some similarities, we are distinct models with different strengths and weaknesses. Is there anything else you would like to know?\""
            ],
            "application/vnd.google.colaboratory.intrinsic+json": {
              "type": "string"
            }
          },
          "metadata": {},
          "execution_count": 29
        }
      ]
    }
  ]
}